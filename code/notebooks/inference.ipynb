{
 "cells": [
  {
   "cell_type": "code",
   "execution_count": null,
   "id": "abf8ee5b-8f59-41b8-9eab-c50dd93fdb81",
   "metadata": {},
   "outputs": [],
   "source": [
    "\n",
    "import pandas as pd\n",
    "from sklearn.preprocessing import StandardScaler\n",
    "from tensorflow.keras.models import load_model\n",
    "\n",
    "# Load the trained model\n",
    "vae = load_model('../models/vae_model.h5')\n",
    "\n",
    "# Load and preprocess test data\n",
    "df_test = pd.read_csv('../data/KDDTest.csv')\n",
    "X_test = scaler.transform(df_test.drop('attack_type', axis=1))\n",
    "\n",
    "# Perform reconstruction\n",
    "X_test_reconstructed = vae.predict(X_test)\n",
    "\n",
    "# Calculate reconstruction error\n",
    "reconstruction_error = ((X_test - X_test_reconstructed) ** 2).mean(axis=1)\n",
    "\n",
    "# Classify as anomaly if the reconstruction error is above a certain threshold\n",
    "threshold = 0.01\n",
    "anomalies = reconstruction_error > threshold\n",
    "\n",
    "# Print or save the results\n",
    "df_test['is_anomaly'] = anomalies\n",
    "df_test.to_csv('../data/KDDTest_inference.csv', index=False)\n"
   ]
  }
 ],
 "metadata": {
  "kernelspec": {
   "display_name": "Python 3 (ipykernel)",
   "language": "python",
   "name": "python3"
  },
  "language_info": {
   "codemirror_mode": {
    "name": "ipython",
    "version": 3
   },
   "file_extension": ".py",
   "mimetype": "text/x-python",
   "name": "python",
   "nbconvert_exporter": "python",
   "pygments_lexer": "ipython3",
   "version": "3.10.12"
  }
 },
 "nbformat": 4,
 "nbformat_minor": 5
}
