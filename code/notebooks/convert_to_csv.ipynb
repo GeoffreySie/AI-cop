{
 "cells": [
  {
   "cell_type": "code",
   "execution_count": 24,
   "id": "cf1da0da-5e1d-4050-a9dc-fbd8c1f09ffa",
   "metadata": {},
   "outputs": [
    {
     "name": "stdout",
     "output_type": "stream",
     "text": [
      "Success!\n"
     ]
    }
   ],
   "source": [
    "import pandas as pd\n",
    "from scipy.io import arff\n",
    "\n",
    "# Load the ARFF file using scipy\n",
    "data_train, meta_train = arff.loadarff('../../data/KDDTrain+.arff')\n",
    "data_test, meta_test = arff.loadarff('../../data/KDDTest+.arff')\n",
    "\n",
    "# Convert the loaded ARFF data to a pandas DataFrame\n",
    "df_train = pd.DataFrame(data_train)\n",
    "df_test = pd.DataFrame(data_test)\n",
    "\n",
    "# Automatically decode byte columns\n",
    "def decode_column(value):\n",
    "    if isinstance(value, bytes):\n",
    "        return value.decode('utf-8')  # Decode bytes to strings\n",
    "    return value\n",
    "\n",
    "# Apply the decoding to all columns that contain byte values\n",
    "for col in df_train.columns:\n",
    "    if isinstance(df_train[col].iloc[0], bytes):  # If the column contains bytes\n",
    "        df_train[col] = df_train[col].apply(decode_column)\n",
    "for col in df_test.columns:\n",
    "    if isinstance(df_test[col].iloc[0], bytes):  # If the column contains bytes\n",
    "        df_test[col] = df_test[col].apply(decode_column)\n",
    "\n",
    "df_train.to_csv('../../data/kdd_train.csv', index=False)\n",
    "df_test.to_csv('../../data/kdd_test.csv', index=False)\n",
    "\n",
    "print(\"Success!\")\n"
   ]
  },
  {
   "cell_type": "code",
   "execution_count": null,
   "id": "c4cb0e87-ccc4-4869-bdbf-2e3134a889e8",
   "metadata": {},
   "outputs": [],
   "source": []
  }
 ],
 "metadata": {
  "kernelspec": {
   "display_name": "Python 3 (ipykernel)",
   "language": "python",
   "name": "python3"
  },
  "language_info": {
   "codemirror_mode": {
    "name": "ipython",
    "version": 3
   },
   "file_extension": ".py",
   "mimetype": "text/x-python",
   "name": "python",
   "nbconvert_exporter": "python",
   "pygments_lexer": "ipython3",
   "version": "3.10.12"
  }
 },
 "nbformat": 4,
 "nbformat_minor": 5
}
