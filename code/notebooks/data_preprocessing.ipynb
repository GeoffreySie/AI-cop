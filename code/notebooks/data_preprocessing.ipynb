{
 "cells": [
  {
   "cell_type": "code",
   "execution_count": null,
   "id": "e68b1866-6876-4dd1-9adf-ea162a2e40f8",
   "metadata": {},
   "outputs": [],
   "source": [
    "# 1_data_preprocessing.ipynb\n",
    "\n",
    "import pandas as pd\n",
    "\n",
    "# Load the .txt file and convert to CSV\n",
    "train_txt_file = '../datasets/KDDTrain+.txt'\n",
    "test_txt_file = '../datasets/KDDTest+.txt'\n",
    "\n",
    "# Load as DataFrame with space-separated values\n",
    "df_train = pd.read_csv(train_txt_file, delimiter=',', header=None)\n",
    "df_test = pd.read_csv(test_txt_file, delimiter=',', header=None)\n",
    "\n",
    "# Optional: Assign column names to the dataset (if available)\n",
    "column_names = [\"duration\", \"protocol_type\", \"service\", \"flag\", \"src_bytes\", \"dst_bytes\", ...]  # Full list of columns\n",
    "df_train.columns = column_names\n",
    "df_test.columns = column_names\n",
    "\n",
    "# Save to CSV\n",
    "df_train.to_csv('../datasets/KDDTrain.csv', index=False)\n",
    "df_test.to_csv('../datasets/KDDTest.csv', index=False)\n",
    "\n",
    "print(\"Data conversion to CSV completed!\")\n"
   ]
  }
 ],
 "metadata": {
  "kernelspec": {
   "display_name": "Python 3 (ipykernel)",
   "language": "python",
   "name": "python3"
  },
  "language_info": {
   "codemirror_mode": {
    "name": "ipython",
    "version": 3
   },
   "file_extension": ".py",
   "mimetype": "text/x-python",
   "name": "python",
   "nbconvert_exporter": "python",
   "pygments_lexer": "ipython3",
   "version": "3.10.12"
  }
 },
 "nbformat": 4,
 "nbformat_minor": 5
}
