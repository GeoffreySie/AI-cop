{
 "cells": [
  {
   "cell_type": "code",
   "execution_count": null,
   "id": "7059c0b3-f880-491b-964b-374924c3f353",
   "metadata": {},
   "outputs": [],
   "source": [
    "# 2_vae_model.ipynb\n",
    "\n",
    "import tensorflow as tf\n",
    "from tensorflow.keras import layers\n",
    "\n",
    "# Define the encoder\n",
    "latent_dim = 16\n",
    "\n",
    "encoder_input = layers.Input(shape=(input_dim,))\n",
    "x = layers.Dense(64, activation='relu')(encoder_input)\n",
    "x = layers.Dense(32, activation='relu')(x)\n",
    "z_mean = layers.Dense(latent_dim, name='z_mean')(x)\n",
    "z_log_var = layers.Dense(latent_dim, name='z_log_var')(x)\n",
    "\n",
    "# Sampling layer\n",
    "def sampling(args):\n",
    "    z_mean, z_log_var = args\n",
    "    batch = tf.shape(z_mean)[0]\n",
    "    dim = tf.shape(z_mean)[1]\n",
    "    epsilon = tf.keras.backend.random_normal(shape=(batch, dim))\n",
    "    return z_mean + tf.exp(0.5 * z_log_var) * epsilon\n",
    "\n",
    "z = layers.Lambda(sampling, output_shape=(latent_dim,), name='z')([z_mean, z_log_var])\n",
    "\n",
    "# Decoder\n",
    "decoder_input = layers.Input(shape=(latent_dim,))\n",
    "x = layers.Dense(32, activation='relu')(decoder_input)\n",
    "x = layers.Dense(64, activation='relu')(x)\n",
    "decoder_output = layers.Dense(input_dim, activation='sigmoid')(x)\n",
    "\n",
    "# Define VAE model\n",
    "encoder = tf.keras.Model(encoder_input, [z_mean, z_log_var, z], name='encoder')\n",
    "decoder = tf.keras.Model(decoder_input, decoder_output, name='decoder')\n",
    "\n",
    "outputs = decoder(encoder(encoder_input)[2])\n",
    "vae = tf.keras.Model(encoder_input, outputs, name='vae')\n",
    "\n",
    "# Compile the VAE model\n",
    "vae.compile(optimizer='adam', loss='mse')\n",
    "vae.summary()\n"
   ]
  }
 ],
 "metadata": {
  "kernelspec": {
   "display_name": "Python 3 (ipykernel)",
   "language": "python",
   "name": "python3"
  },
  "language_info": {
   "codemirror_mode": {
    "name": "ipython",
    "version": 3
   },
   "file_extension": ".py",
   "mimetype": "text/x-python",
   "name": "python",
   "nbconvert_exporter": "python",
   "pygments_lexer": "ipython3",
   "version": "3.10.12"
  }
 },
 "nbformat": 4,
 "nbformat_minor": 5
}
