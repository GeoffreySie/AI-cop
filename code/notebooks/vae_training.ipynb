{
 "cells": [
  {
   "cell_type": "code",
   "execution_count": null,
   "id": "0dda4877-3d93-4f61-b4b5-421f013a7b0e",
   "metadata": {},
   "outputs": [],
   "source": [
    "\n",
    "import pandas as pd\n",
    "from sklearn.preprocessing import StandardScaler\n",
    "from tensorflow.keras.callbacks import EarlyStopping\n",
    "\n",
    "# Load preprocessed dataset\n",
    "df_train = pd.read_csv('../datasets/KDDTrain.csv')\n",
    "\n",
    "# Feature Scaling\n",
    "scaler = StandardScaler()\n",
    "X_train = scaler.fit_transform(df_train.drop('attack_type', axis=1))\n",
    "\n",
    "# Train VAE\n",
    "early_stopping = EarlyStopping(monitor='val_loss', patience=5)\n",
    "vae.fit(X_train, X_train, epochs=100, batch_size=128, validation_split=0.2, callbacks=[early_stopping])\n",
    "\n",
    "# Save the model\n",
    "vae.save('../model/vae_model.h5')\n",
    "\n",
    "print(\"Model training completed!\")\n"
   ]
  }
 ],
 "metadata": {
  "kernelspec": {
   "display_name": "Python 3 (ipykernel)",
   "language": "python",
   "name": "python3"
  },
  "language_info": {
   "codemirror_mode": {
    "name": "ipython",
    "version": 3
   },
   "file_extension": ".py",
   "mimetype": "text/x-python",
   "name": "python",
   "nbconvert_exporter": "python",
   "pygments_lexer": "ipython3",
   "version": "3.10.12"
  }
 },
 "nbformat": 4,
 "nbformat_minor": 5
}
